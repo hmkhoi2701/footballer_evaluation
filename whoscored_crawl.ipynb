{
 "cells": [
  {
   "cell_type": "code",
   "execution_count": 2,
   "id": "6bdd19e1",
   "metadata": {},
   "outputs": [],
   "source": [
    "import pandas as pd\n",
    "from selenium import webdriver\n",
    "from selenium.webdriver.chrome.service import Service\n",
    "PATH = Service(\"C:\\Program Files (x86)\\chromedriver.exe\")\n",
    "\n",
    "driver = webdriver.Chrome(service = PATH)\n",
    "driver.close()"
   ]
  },
  {
   "cell_type": "code",
   "execution_count": 3,
   "id": "5e8e4b6a",
   "metadata": {},
   "outputs": [],
   "source": [
    "whoscored_url=[\n",
    "    \"https://1xbet.whoscored.com/Regions/252/Tournaments/2/England-Premier-League\",\n",
    "    \"https://1xbet.whoscored.com/Regions/108/Tournaments/5/Italy-Serie-A\",\n",
    "    \"https://1xbet.whoscored.com/Regions/206/Tournaments/4/Spain-LaLiga\",\n",
    "    \"https://1xbet.whoscored.com/Regions/81/Tournaments/3/Germany-Bundesliga\",\n",
    "    \"https://1xbet.whoscored.com/Regions/74/Tournaments/22/France-Ligue-1\"\n",
    "]"
   ]
  },
  {
   "cell_type": "code",
   "execution_count": 63,
   "id": "b324247a",
   "metadata": {},
   "outputs": [
    {
     "data": {
      "text/plain": [
       "['https://1xbet.whoscored.com/Teams/167/Show/England-Manchester-City',\n",
       " 'https://1xbet.whoscored.com/Teams/26/Show/England-Liverpool',\n",
       " 'https://1xbet.whoscored.com/Teams/15/Show/England-Chelsea',\n",
       " 'https://1xbet.whoscored.com/Teams/30/Show/England-Tottenham',\n",
       " 'https://1xbet.whoscored.com/Teams/13/Show/England-Arsenal',\n",
       " 'https://1xbet.whoscored.com/Teams/32/Show/England-Manchester-United',\n",
       " 'https://1xbet.whoscored.com/Teams/29/Show/England-West-Ham',\n",
       " 'https://1xbet.whoscored.com/Teams/14/Show/England-Leicester',\n",
       " 'https://1xbet.whoscored.com/Teams/211/Show/England-Brighton',\n",
       " 'https://1xbet.whoscored.com/Teams/161/Show/England-Wolverhampton',\n",
       " 'https://1xbet.whoscored.com/Teams/23/Show/England-Newcastle',\n",
       " 'https://1xbet.whoscored.com/Teams/162/Show/England-Crystal-Palace',\n",
       " 'https://1xbet.whoscored.com/Teams/189/Show/England-Brentford',\n",
       " 'https://1xbet.whoscored.com/Teams/24/Show/England-Aston-Villa',\n",
       " 'https://1xbet.whoscored.com/Teams/18/Show/England-Southampton',\n",
       " 'https://1xbet.whoscored.com/Teams/31/Show/England-Everton',\n",
       " 'https://1xbet.whoscored.com/Teams/19/Show/England-Leeds',\n",
       " 'https://1xbet.whoscored.com/Teams/184/Show/England-Burnley',\n",
       " 'https://1xbet.whoscored.com/Teams/27/Show/England-Watford',\n",
       " 'https://1xbet.whoscored.com/Teams/168/Show/England-Norwich']"
      ]
     },
     "execution_count": 63,
     "metadata": {},
     "output_type": "execute_result"
    }
   ],
   "source": [
    "PATH = Service(\"C:\\Program Files (x86)\\chromedriver.exe\")\n",
    "\n",
    "driver = webdriver.Chrome(service = PATH)\n",
    "driver.get(whoscored_url[0])\n",
    "\n",
    "teams_url_raw = \\\n",
    "driver.find_elements(\"xpath\", \"(//table[@class='grid with-centered-columns hover']/tbody/tr/td/a[@class='team-link '])\")\n",
    "teams_url = []\n",
    "\n",
    "for team_url_raw in teams_url_raw:\n",
    "    teams_url.append(team_url_raw.get_attribute('href'))\n",
    "driver.close()\n",
    "teams_url"
   ]
  },
  {
   "cell_type": "code",
   "execution_count": 65,
   "id": "d121ae46",
   "metadata": {},
   "outputs": [
    {
     "data": {
      "text/plain": [
       "['https://1xbet.whoscored.com/Players/108226/Show/Mohamed-Salah',\n",
       " 'https://1xbet.whoscored.com/Players/318871/Show/Trent-Alexander-Arnold',\n",
       " 'https://1xbet.whoscored.com/Players/377168/Show/Luis-D%C3%ADaz',\n",
       " 'https://1xbet.whoscored.com/Players/74341/Show/Joel-Matip',\n",
       " 'https://1xbet.whoscored.com/Players/109915/Show/Sadio-Man%C3%A9',\n",
       " 'https://1xbet.whoscored.com/Players/115726/Show/Andrew-Robertson',\n",
       " 'https://1xbet.whoscored.com/Players/95408/Show/Virgil-van-Dijk',\n",
       " 'https://1xbet.whoscored.com/Players/74939/Show/Thiago',\n",
       " 'https://1xbet.whoscored.com/Players/235755/Show/Diogo-Jota',\n",
       " 'https://1xbet.whoscored.com/Players/301455/Show/Konstantinos-Tsimikas',\n",
       " 'https://1xbet.whoscored.com/Players/322176/Show/Caoimhin-Kelleher',\n",
       " 'https://1xbet.whoscored.com/Players/115916/Show/Fabinho',\n",
       " 'https://1xbet.whoscored.com/Players/386969/Show/Neco-Williams',\n",
       " 'https://1xbet.whoscored.com/Players/345957/Show/Ibrahima-Konat%C3%A9',\n",
       " 'https://1xbet.whoscored.com/Players/114147/Show/Alisson',\n",
       " 'https://1xbet.whoscored.com/Players/68659/Show/Jordan-Henderson',\n",
       " 'https://1xbet.whoscored.com/Players/355354/Show/Curtis-Jones',\n",
       " 'https://1xbet.whoscored.com/Players/96182/Show/Roberto-Firmino',\n",
       " 'https://1xbet.whoscored.com/Players/243510/Show/Naby-Ke%C3%AFta',\n",
       " 'https://1xbet.whoscored.com/Players/4511/Show/James-Milner',\n",
       " 'https://1xbet.whoscored.com/Players/124688/Show/Divock-Origi',\n",
       " 'https://1xbet.whoscored.com/Players/363982/Show/Harvey-Elliott',\n",
       " 'https://1xbet.whoscored.com/Players/84146/Show/Alex-Oxlade-Chamberlain',\n",
       " 'https://1xbet.whoscored.com/Players/136451/Show/Joe-Gomez',\n",
       " 'https://1xbet.whoscored.com/Players/262838/Show/Takumi-Minamino',\n",
       " 'https://1xbet.whoscored.com/Players/425568/Show/Tyler-Morton',\n",
       " 'https://1xbet.whoscored.com/Players/408662/Show/Kaide-Gordon']"
      ]
     },
     "execution_count": 65,
     "metadata": {},
     "output_type": "execute_result"
    }
   ],
   "source": [
    "PATH = Service(\"C:\\Program Files (x86)\\chromedriver.exe\")\n",
    "\n",
    "driver = webdriver.Chrome(service = PATH)\n",
    "driver.get(teams_url[1])\n",
    "\n",
    "players_url_raw = driver.find_elements(\"xpath\",\"//tbody[@id='player-table-statistics-body']/tr/td/a[@class='player-link']\")\n",
    "players_url = []\n",
    "\n",
    "for player_url_raw in players_url_raw:\n",
    "    players_url.append(player_url_raw.get_attribute('href'))\n",
    "driver.close()\n",
    "players_url"
   ]
  },
  {
   "cell_type": "code",
   "execution_count": null,
   "id": "60239335",
   "metadata": {},
   "outputs": [],
   "source": []
  }
 ],
 "metadata": {
  "kernelspec": {
   "display_name": "Python 3",
   "language": "python",
   "name": "python3"
  },
  "language_info": {
   "codemirror_mode": {
    "name": "ipython",
    "version": 3
   },
   "file_extension": ".py",
   "mimetype": "text/x-python",
   "name": "python",
   "nbconvert_exporter": "python",
   "pygments_lexer": "ipython3",
   "version": "3.9.2"
  }
 },
 "nbformat": 4,
 "nbformat_minor": 5
}
