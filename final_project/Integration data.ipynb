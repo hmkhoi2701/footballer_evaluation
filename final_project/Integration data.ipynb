{
 "cells": [
  {
   "cell_type": "markdown",
   "id": "2d0194ae",
   "metadata": {},
   "source": [
    "# 1.Import libraby and data"
   ]
  },
  {
   "cell_type": "code",
   "execution_count": 3,
   "id": "50fc9f8b",
   "metadata": {},
   "outputs": [
    {
     "name": "stdout",
     "output_type": "stream",
     "text": [
      "(2976, 46)\n",
      "(2921, 143)\n"
     ]
    }
   ],
   "source": [
    "import pandas as pd\n",
    "index = pd.read_csv(\"player_index.csv\")\n",
    "sta = pd.read_csv(\"2021-2022 Football Player Stats.csv\", sep = ';', encoding = 'latin1')\n",
    "print(index.shape)\n",
    "print(sta.shape)"
   ]
  },
  {
   "cell_type": "markdown",
   "id": "f0623ae7",
   "metadata": {},
   "source": [
    "# 2.Remove duplicated records"
   ]
  },
  {
   "cell_type": "markdown",
   "id": "92993221",
   "metadata": {},
   "source": [
    "## a.2021-2022 Football Player Stats.csv"
   ]
  },
  {
   "cell_type": "code",
   "execution_count": 4,
   "id": "c0b70999",
   "metadata": {},
   "outputs": [],
   "source": [
    "player = sta['Player'].unique()\n",
    "player_boolean = [True]* len(player)\n",
    "sta_boolean = [0] * len(sta['Player'])\n",
    "for i in range(len(sta['Player'])):\n",
    "    for j in range(len(player)):\n",
    "        if sta['Player'][i] == player[j] and  player_boolean[j] == True:\n",
    "            player_boolean[j] = False\n",
    "            sta_boolean[i] = 1\n",
    "\n",
    "sta['bool'] = sta_boolean\n",
    "sta = sta[sta['bool'] == 1]"
   ]
  },
  {
   "cell_type": "code",
   "execution_count": 6,
   "id": "32edfc30",
   "metadata": {},
   "outputs": [
    {
     "data": {
      "text/plain": [
       "(2786, 144)"
      ]
     },
     "execution_count": 6,
     "metadata": {},
     "output_type": "execute_result"
    }
   ],
   "source": [
    "sta.shape"
   ]
  },
  {
   "cell_type": "markdown",
   "id": "c0f8c1e6",
   "metadata": {},
   "source": [
    "#### => we can see that : 136 duplicated recordes removed in 2021-2022 Football Player Stats.csv"
   ]
  },
  {
   "cell_type": "markdown",
   "id": "94806bb5",
   "metadata": {},
   "source": [
    "## b.player_index.csv"
   ]
  },
  {
   "cell_type": "code",
   "execution_count": 8,
   "id": "0c05ff40",
   "metadata": {},
   "outputs": [
    {
     "name": "stdout",
     "output_type": "stream",
     "text": [
      "(2974, 46)\n"
     ]
    }
   ],
   "source": [
    "index = index.drop_duplicates(subset=[\"name\"], keep=False)\n",
    "print(index.shape)"
   ]
  },
  {
   "cell_type": "markdown",
   "id": "6927a753",
   "metadata": {},
   "source": [
    "#### => we removed 2 duplicated records "
   ]
  },
  {
   "cell_type": "markdown",
   "id": "2b7ed8e9",
   "metadata": {},
   "source": [
    "# 3.Join 2 tables based on player's name in 2 tables"
   ]
  },
  {
   "cell_type": "markdown",
   "id": "da1c007d",
   "metadata": {},
   "source": [
    "### a.Idea 2 full names taken from 2 tables are the same: if we have at least 2 similar words in any 2 full names of 2 tables, then those 2 full names are the full name of 1 player"
   ]
  },
  {
   "cell_type": "code",
   "execution_count": 9,
   "id": "ed6f7cc3",
   "metadata": {},
   "outputs": [],
   "source": [
    "# list of full names are the same in 2 tables\n",
    "name_sta = []\n",
    "name_index = []\n",
    "for i in index['name']:\n",
    "    for j in sta['Player']:\n",
    "        name1 = i.strip().split(' ')\n",
    "        name2 = j.strip().split(' ')\n",
    "        count = 0\n",
    "        for a in name1:\n",
    "            if a in name2:\n",
    "                count = count + 1\n",
    "        if (count > 1 ):\n",
    "            name_sta.append(j)\n",
    "            name_index.append(i)          "
   ]
  },
  {
   "cell_type": "code",
   "execution_count": 10,
   "id": "d0cffa9c",
   "metadata": {},
   "outputs": [],
   "source": [
    "# we remove full names in 2021-2022 Football Player Stats that don't exist in list of full names above\n",
    "count_sta =[]\n",
    "for i in sta['Player']:\n",
    "    if i in name_sta:\n",
    "        count_sta.append(name_sta.index(i))\n",
    "    else:\n",
    "        count_sta.append(0)\n",
    "sta['count'] = count_sta\n",
    "sta = sta[sta['count'] != 0 ]        "
   ]
  },
  {
   "cell_type": "code",
   "execution_count": 11,
   "id": "2a0bc2ff",
   "metadata": {},
   "outputs": [
    {
     "data": {
      "text/plain": [
       "(2031, 145)"
      ]
     },
     "execution_count": 11,
     "metadata": {},
     "output_type": "execute_result"
    }
   ],
   "source": [
    "# check record remaning in sta data\n",
    "sta.shape"
   ]
  },
  {
   "cell_type": "code",
   "execution_count": 12,
   "id": "364d01cf",
   "metadata": {},
   "outputs": [],
   "source": [
    "# we remove full names in player_index.csv that don't exist in list of full names above\n",
    "count_index = []\n",
    "for i in index['name']:\n",
    "    if i in name_index:\n",
    "        count_index.append(name_index.index(i))\n",
    "    else:\n",
    "        count_index.append(0)\n",
    "index['count'] = count_index\n",
    "index = index[index['count'] != 0 ]\n"
   ]
  },
  {
   "cell_type": "code",
   "execution_count": 13,
   "id": "5b0c1477",
   "metadata": {},
   "outputs": [
    {
     "data": {
      "text/plain": [
       "(2059, 47)"
      ]
     },
     "execution_count": 13,
     "metadata": {},
     "output_type": "execute_result"
    }
   ],
   "source": [
    "# check record remaning in index data\n",
    "index.shape"
   ]
  },
  {
   "cell_type": "markdown",
   "id": "67723e74",
   "metadata": {},
   "source": [
    "### b. Select attributes of two tables that are related to player values"
   ]
  },
  {
   "cell_type": "code",
   "execution_count": 14,
   "id": "779753a4",
   "metadata": {},
   "outputs": [],
   "source": [
    "data_sta = sta[['Player', 'MP', 'Min', 'Goals', 'Assists', 'CrdY', 'CrdR','count','Comp','Shots',]]\n",
    "\n",
    "data_index = index.copy()"
   ]
  },
  {
   "cell_type": "markdown",
   "id": "b4ee079d",
   "metadata": {},
   "source": [
    "### c.Combine 2 tables"
   ]
  },
  {
   "cell_type": "code",
   "execution_count": 16,
   "id": "621d8bbd",
   "metadata": {},
   "outputs": [
    {
     "data": {
      "text/html": [
       "<div>\n",
       "<style scoped>\n",
       "    .dataframe tbody tr th:only-of-type {\n",
       "        vertical-align: middle;\n",
       "    }\n",
       "\n",
       "    .dataframe tbody tr th {\n",
       "        vertical-align: top;\n",
       "    }\n",
       "\n",
       "    .dataframe thead th {\n",
       "        text-align: right;\n",
       "    }\n",
       "</style>\n",
       "<table border=\"1\" class=\"dataframe\">\n",
       "  <thead>\n",
       "    <tr style=\"text-align: right;\">\n",
       "      <th></th>\n",
       "      <th>Player</th>\n",
       "      <th>MP</th>\n",
       "      <th>Min</th>\n",
       "      <th>Goals</th>\n",
       "      <th>Assists</th>\n",
       "      <th>CrdY</th>\n",
       "      <th>CrdR</th>\n",
       "      <th>count</th>\n",
       "      <th>Comp</th>\n",
       "      <th>Shots</th>\n",
       "      <th>...</th>\n",
       "      <th>age</th>\n",
       "      <th>best_position</th>\n",
       "      <th>club</th>\n",
       "      <th>name</th>\n",
       "      <th>overall</th>\n",
       "      <th>position</th>\n",
       "      <th>potential</th>\n",
       "      <th>preferred_foot</th>\n",
       "      <th>value</th>\n",
       "      <th>wage</th>\n",
       "    </tr>\n",
       "  </thead>\n",
       "  <tbody>\n",
       "    <tr>\n",
       "      <th>0</th>\n",
       "      <td>Yunis Abdelhamid</td>\n",
       "      <td>34</td>\n",
       "      <td>2983</td>\n",
       "      <td>0.06</td>\n",
       "      <td>0.00</td>\n",
       "      <td>0.15</td>\n",
       "      <td>0.03</td>\n",
       "      <td>253</td>\n",
       "      <td>Ligue 1</td>\n",
       "      <td>0.54</td>\n",
       "      <td>...</td>\n",
       "      <td>33</td>\n",
       "      <td>CB</td>\n",
       "      <td>Stade de Reims</td>\n",
       "      <td>Yunis Abdelhamid</td>\n",
       "      <td>76</td>\n",
       "      <td>LCB</td>\n",
       "      <td>76</td>\n",
       "      <td>Left</td>\n",
       "      <td>€3.6M</td>\n",
       "      <td>€23K</td>\n",
       "    </tr>\n",
       "    <tr>\n",
       "      <th>1</th>\n",
       "      <td>Salis Abdul Samed</td>\n",
       "      <td>31</td>\n",
       "      <td>2462</td>\n",
       "      <td>0.04</td>\n",
       "      <td>0.00</td>\n",
       "      <td>0.44</td>\n",
       "      <td>0.11</td>\n",
       "      <td>1065</td>\n",
       "      <td>Ligue 1</td>\n",
       "      <td>0.66</td>\n",
       "      <td>...</td>\n",
       "      <td>21</td>\n",
       "      <td>CDM</td>\n",
       "      <td>Clermont Foot 63</td>\n",
       "      <td>Salis Abdul Samed</td>\n",
       "      <td>70</td>\n",
       "      <td>SUB</td>\n",
       "      <td>75</td>\n",
       "      <td>Right</td>\n",
       "      <td>€2.2M</td>\n",
       "      <td>€7K</td>\n",
       "    </tr>\n",
       "    <tr>\n",
       "      <th>2</th>\n",
       "      <td>Laurent Abergel</td>\n",
       "      <td>34</td>\n",
       "      <td>2956</td>\n",
       "      <td>0.00</td>\n",
       "      <td>0.06</td>\n",
       "      <td>0.27</td>\n",
       "      <td>0.00</td>\n",
       "      <td>25</td>\n",
       "      <td>Ligue 1</td>\n",
       "      <td>0.91</td>\n",
       "      <td>...</td>\n",
       "      <td>28</td>\n",
       "      <td>CDM</td>\n",
       "      <td>FC Lorient</td>\n",
       "      <td>Laurent Abergel</td>\n",
       "      <td>75</td>\n",
       "      <td>CDM</td>\n",
       "      <td>75</td>\n",
       "      <td>Right</td>\n",
       "      <td>€4.9M</td>\n",
       "      <td>€18K</td>\n",
       "    </tr>\n",
       "    <tr>\n",
       "      <th>3</th>\n",
       "      <td>Dickson Abiama</td>\n",
       "      <td>24</td>\n",
       "      <td>726</td>\n",
       "      <td>0.00</td>\n",
       "      <td>0.12</td>\n",
       "      <td>0.37</td>\n",
       "      <td>0.00</td>\n",
       "      <td>1937</td>\n",
       "      <td>Bundesliga</td>\n",
       "      <td>2.22</td>\n",
       "      <td>...</td>\n",
       "      <td>22</td>\n",
       "      <td>ST</td>\n",
       "      <td>SpVgg Greuther Fürth</td>\n",
       "      <td>Dickson Abiama</td>\n",
       "      <td>68</td>\n",
       "      <td>SUB</td>\n",
       "      <td>76</td>\n",
       "      <td>Right</td>\n",
       "      <td>€2.7M</td>\n",
       "      <td>€9K</td>\n",
       "    </tr>\n",
       "    <tr>\n",
       "      <th>4</th>\n",
       "      <td>Francesco Acerbi</td>\n",
       "      <td>30</td>\n",
       "      <td>2536</td>\n",
       "      <td>0.14</td>\n",
       "      <td>0.00</td>\n",
       "      <td>0.07</td>\n",
       "      <td>0.04</td>\n",
       "      <td>941</td>\n",
       "      <td>Serie A</td>\n",
       "      <td>0.57</td>\n",
       "      <td>...</td>\n",
       "      <td>33</td>\n",
       "      <td>CB</td>\n",
       "      <td>Lazio</td>\n",
       "      <td>Francesco Acerbi</td>\n",
       "      <td>83</td>\n",
       "      <td>LCB</td>\n",
       "      <td>83</td>\n",
       "      <td>Left</td>\n",
       "      <td>€17.5M</td>\n",
       "      <td>€75K</td>\n",
       "    </tr>\n",
       "  </tbody>\n",
       "</table>\n",
       "<p>5 rows × 56 columns</p>\n",
       "</div>"
      ],
      "text/plain": [
       "              Player  MP   Min  Goals  Assists  CrdY  CrdR  count        Comp  \\\n",
       "0   Yunis Abdelhamid  34  2983   0.06     0.00  0.15  0.03    253     Ligue 1   \n",
       "1  Salis Abdul Samed  31  2462   0.04     0.00  0.44  0.11   1065     Ligue 1   \n",
       "2    Laurent Abergel  34  2956   0.00     0.06  0.27  0.00     25     Ligue 1   \n",
       "3     Dickson Abiama  24   726   0.00     0.12  0.37  0.00   1937  Bundesliga   \n",
       "4   Francesco Acerbi  30  2536   0.14     0.00  0.07  0.04    941     Serie A   \n",
       "\n",
       "   Shots  ...  age  best_position                  club               name  \\\n",
       "0   0.54  ...   33             CB        Stade de Reims   Yunis Abdelhamid   \n",
       "1   0.66  ...   21            CDM      Clermont Foot 63  Salis Abdul Samed   \n",
       "2   0.91  ...   28            CDM            FC Lorient    Laurent Abergel   \n",
       "3   2.22  ...   22             ST  SpVgg Greuther Fürth     Dickson Abiama   \n",
       "4   0.57  ...   33             CB                 Lazio   Francesco Acerbi   \n",
       "\n",
       "   overall  position  potential  preferred_foot   value  wage  \n",
       "0       76       LCB         76            Left   €3.6M  €23K  \n",
       "1       70       SUB         75           Right   €2.2M   €7K  \n",
       "2       75       CDM         75           Right   €4.9M  €18K  \n",
       "3       68       SUB         76           Right   €2.7M   €9K  \n",
       "4       83       LCB         83            Left  €17.5M  €75K  \n",
       "\n",
       "[5 rows x 56 columns]"
      ]
     },
     "execution_count": 16,
     "metadata": {},
     "output_type": "execute_result"
    }
   ],
   "source": [
    "final_data = pd.merge(data_sta, data_index, on='count')\n",
    "final_data.head()"
   ]
  },
  {
   "cell_type": "markdown",
   "id": "71bcfa13",
   "metadata": {},
   "source": [
    "### d.covert into csv file"
   ]
  },
  {
   "cell_type": "code",
   "execution_count": 18,
   "id": "42d90d19",
   "metadata": {},
   "outputs": [],
   "source": [
    "final_data.to_csv('whole data.csv')"
   ]
  },
  {
   "cell_type": "code",
   "execution_count": null,
   "id": "1472bd0b",
   "metadata": {},
   "outputs": [],
   "source": []
  }
 ],
 "metadata": {
  "kernelspec": {
   "display_name": "Python 3",
   "language": "python",
   "name": "python3"
  },
  "language_info": {
   "codemirror_mode": {
    "name": "ipython",
    "version": 3
   },
   "file_extension": ".py",
   "mimetype": "text/x-python",
   "name": "python",
   "nbconvert_exporter": "python",
   "pygments_lexer": "ipython3",
   "version": "3.8.8"
  }
 },
 "nbformat": 4,
 "nbformat_minor": 5
}
