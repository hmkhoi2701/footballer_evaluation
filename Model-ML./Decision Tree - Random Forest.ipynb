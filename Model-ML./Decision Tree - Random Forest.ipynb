{
 "cells": [
  {
   "cell_type": "markdown",
   "id": "6a460a12",
   "metadata": {},
   "source": [
    "# 1. Import library and read Striker player data"
   ]
  },
  {
   "cell_type": "code",
   "execution_count": 1,
   "id": "4613e238",
   "metadata": {},
   "outputs": [
    {
     "data": {
      "text/html": [
       "<div>\n",
       "<style scoped>\n",
       "    .dataframe tbody tr th:only-of-type {\n",
       "        vertical-align: middle;\n",
       "    }\n",
       "\n",
       "    .dataframe tbody tr th {\n",
       "        vertical-align: top;\n",
       "    }\n",
       "\n",
       "    .dataframe thead th {\n",
       "        text-align: right;\n",
       "    }\n",
       "</style>\n",
       "<table border=\"1\" class=\"dataframe\">\n",
       "  <thead>\n",
       "    <tr style=\"text-align: right;\">\n",
       "      <th></th>\n",
       "      <th>league</th>\n",
       "      <th>foot</th>\n",
       "      <th>date</th>\n",
       "      <th>market_value</th>\n",
       "      <th>Apps</th>\n",
       "      <th>Mins</th>\n",
       "      <th>Goals</th>\n",
       "      <th>Assists</th>\n",
       "      <th>Yel</th>\n",
       "      <th>Red</th>\n",
       "      <th>MotM</th>\n",
       "      <th>Rating</th>\n",
       "      <th>age</th>\n",
       "    </tr>\n",
       "  </thead>\n",
       "  <tbody>\n",
       "    <tr>\n",
       "      <th>0</th>\n",
       "      <td>5.0</td>\n",
       "      <td>2.0</td>\n",
       "      <td>2013</td>\n",
       "      <td>675000</td>\n",
       "      <td>19</td>\n",
       "      <td>1163</td>\n",
       "      <td>3</td>\n",
       "      <td>4</td>\n",
       "      <td>0</td>\n",
       "      <td>0</td>\n",
       "      <td>1</td>\n",
       "      <td>7.21</td>\n",
       "      <td>22</td>\n",
       "    </tr>\n",
       "    <tr>\n",
       "      <th>1</th>\n",
       "      <td>5.0</td>\n",
       "      <td>2.0</td>\n",
       "      <td>2014</td>\n",
       "      <td>1800000</td>\n",
       "      <td>31</td>\n",
       "      <td>2155</td>\n",
       "      <td>4</td>\n",
       "      <td>3</td>\n",
       "      <td>0</td>\n",
       "      <td>0</td>\n",
       "      <td>2</td>\n",
       "      <td>7.14</td>\n",
       "      <td>23</td>\n",
       "    </tr>\n",
       "    <tr>\n",
       "      <th>2</th>\n",
       "      <td>5.0</td>\n",
       "      <td>2.0</td>\n",
       "      <td>2015</td>\n",
       "      <td>6300000</td>\n",
       "      <td>41</td>\n",
       "      <td>3299</td>\n",
       "      <td>18</td>\n",
       "      <td>12</td>\n",
       "      <td>1</td>\n",
       "      <td>0</td>\n",
       "      <td>10</td>\n",
       "      <td>7.72</td>\n",
       "      <td>24</td>\n",
       "    </tr>\n",
       "    <tr>\n",
       "      <th>3</th>\n",
       "      <td>5.0</td>\n",
       "      <td>2.0</td>\n",
       "      <td>2016</td>\n",
       "      <td>27000000</td>\n",
       "      <td>45</td>\n",
       "      <td>3613</td>\n",
       "      <td>10</td>\n",
       "      <td>5</td>\n",
       "      <td>5</td>\n",
       "      <td>0</td>\n",
       "      <td>5</td>\n",
       "      <td>7.01</td>\n",
       "      <td>25</td>\n",
       "    </tr>\n",
       "    <tr>\n",
       "      <th>4</th>\n",
       "      <td>5.0</td>\n",
       "      <td>2.0</td>\n",
       "      <td>2017</td>\n",
       "      <td>27000000</td>\n",
       "      <td>36</td>\n",
       "      <td>2961</td>\n",
       "      <td>12</td>\n",
       "      <td>10</td>\n",
       "      <td>2</td>\n",
       "      <td>0</td>\n",
       "      <td>5</td>\n",
       "      <td>7.28</td>\n",
       "      <td>26</td>\n",
       "    </tr>\n",
       "  </tbody>\n",
       "</table>\n",
       "</div>"
      ],
      "text/plain": [
       "   league  foot  date  market_value  Apps  Mins  Goals  Assists  Yel  Red  \\\n",
       "0     5.0   2.0  2013        675000    19  1163      3        4    0    0   \n",
       "1     5.0   2.0  2014       1800000    31  2155      4        3    0    0   \n",
       "2     5.0   2.0  2015       6300000    41  3299     18       12    1    0   \n",
       "3     5.0   2.0  2016      27000000    45  3613     10        5    5    0   \n",
       "4     5.0   2.0  2017      27000000    36  2961     12       10    2    0   \n",
       "\n",
       "   MotM  Rating  age  \n",
       "0     1    7.21   22  \n",
       "1     2    7.14   23  \n",
       "2    10    7.72   24  \n",
       "3     5    7.01   25  \n",
       "4     5    7.28   26  "
      ]
     },
     "execution_count": 1,
     "metadata": {},
     "output_type": "execute_result"
    }
   ],
   "source": [
    "import pandas as pd\n",
    "import matplotlib.pyplot as plt\n",
    "import seaborn as sns\n",
    "from sklearn import preprocessing\n",
    "striker = pd.read_csv('striker player.csv')\n",
    "striker['market_value'] = striker['market_value'] \n",
    "striker = striker.drop(columns =['Unnamed: 0'])\n",
    "striker.head()"
   ]
  },
  {
   "cell_type": "code",
   "execution_count": 2,
   "id": "c49dd6e7",
   "metadata": {},
   "outputs": [],
   "source": [
    "y = striker['market_value']\n",
    "x = striker.drop(columns =['market_value'])"
   ]
  },
  {
   "cell_type": "code",
   "execution_count": 3,
   "id": "0c946776",
   "metadata": {},
   "outputs": [],
   "source": [
    "from sklearn.model_selection import train_test_split\n",
    "x_train, x_test, y_train, y_test = train_test_split(x,y , test_size = 0.2, random_state = 3 )"
   ]
  },
  {
   "cell_type": "code",
   "execution_count": 4,
   "id": "ce83f888",
   "metadata": {},
   "outputs": [
    {
     "data": {
      "text/html": [
       "<div>\n",
       "<style scoped>\n",
       "    .dataframe tbody tr th:only-of-type {\n",
       "        vertical-align: middle;\n",
       "    }\n",
       "\n",
       "    .dataframe tbody tr th {\n",
       "        vertical-align: top;\n",
       "    }\n",
       "\n",
       "    .dataframe thead th {\n",
       "        text-align: right;\n",
       "    }\n",
       "</style>\n",
       "<table border=\"1\" class=\"dataframe\">\n",
       "  <thead>\n",
       "    <tr style=\"text-align: right;\">\n",
       "      <th></th>\n",
       "      <th>league</th>\n",
       "      <th>foot</th>\n",
       "      <th>date</th>\n",
       "      <th>Apps</th>\n",
       "      <th>Mins</th>\n",
       "      <th>Goals</th>\n",
       "      <th>Assists</th>\n",
       "      <th>Yel</th>\n",
       "      <th>Red</th>\n",
       "      <th>MotM</th>\n",
       "      <th>Rating</th>\n",
       "      <th>age</th>\n",
       "      <th>market_value</th>\n",
       "    </tr>\n",
       "  </thead>\n",
       "  <tbody>\n",
       "    <tr>\n",
       "      <th>3811</th>\n",
       "      <td>3.0</td>\n",
       "      <td>3.0</td>\n",
       "      <td>2017</td>\n",
       "      <td>7</td>\n",
       "      <td>206</td>\n",
       "      <td>0</td>\n",
       "      <td>0</td>\n",
       "      <td>0</td>\n",
       "      <td>0</td>\n",
       "      <td>0</td>\n",
       "      <td>6.10</td>\n",
       "      <td>20</td>\n",
       "      <td>810000</td>\n",
       "    </tr>\n",
       "    <tr>\n",
       "      <th>577</th>\n",
       "      <td>5.0</td>\n",
       "      <td>1.0</td>\n",
       "      <td>2018</td>\n",
       "      <td>8</td>\n",
       "      <td>624</td>\n",
       "      <td>0</td>\n",
       "      <td>1</td>\n",
       "      <td>2</td>\n",
       "      <td>0</td>\n",
       "      <td>0</td>\n",
       "      <td>6.66</td>\n",
       "      <td>23</td>\n",
       "      <td>4050000</td>\n",
       "    </tr>\n",
       "    <tr>\n",
       "      <th>1423</th>\n",
       "      <td>2.0</td>\n",
       "      <td>2.0</td>\n",
       "      <td>2019</td>\n",
       "      <td>17</td>\n",
       "      <td>979</td>\n",
       "      <td>3</td>\n",
       "      <td>3</td>\n",
       "      <td>1</td>\n",
       "      <td>0</td>\n",
       "      <td>0</td>\n",
       "      <td>6.66</td>\n",
       "      <td>28</td>\n",
       "      <td>10800000</td>\n",
       "    </tr>\n",
       "    <tr>\n",
       "      <th>2201</th>\n",
       "      <td>4.0</td>\n",
       "      <td>1.0</td>\n",
       "      <td>2021</td>\n",
       "      <td>8</td>\n",
       "      <td>210</td>\n",
       "      <td>0</td>\n",
       "      <td>0</td>\n",
       "      <td>0</td>\n",
       "      <td>0</td>\n",
       "      <td>0</td>\n",
       "      <td>6.24</td>\n",
       "      <td>22</td>\n",
       "      <td>360000</td>\n",
       "    </tr>\n",
       "    <tr>\n",
       "      <th>2395</th>\n",
       "      <td>4.0</td>\n",
       "      <td>2.0</td>\n",
       "      <td>2012</td>\n",
       "      <td>14</td>\n",
       "      <td>623</td>\n",
       "      <td>2</td>\n",
       "      <td>2</td>\n",
       "      <td>1</td>\n",
       "      <td>0</td>\n",
       "      <td>0</td>\n",
       "      <td>6.72</td>\n",
       "      <td>21</td>\n",
       "      <td>4500000</td>\n",
       "    </tr>\n",
       "    <tr>\n",
       "      <th>...</th>\n",
       "      <td>...</td>\n",
       "      <td>...</td>\n",
       "      <td>...</td>\n",
       "      <td>...</td>\n",
       "      <td>...</td>\n",
       "      <td>...</td>\n",
       "      <td>...</td>\n",
       "      <td>...</td>\n",
       "      <td>...</td>\n",
       "      <td>...</td>\n",
       "      <td>...</td>\n",
       "      <td>...</td>\n",
       "      <td>...</td>\n",
       "    </tr>\n",
       "    <tr>\n",
       "      <th>2793</th>\n",
       "      <td>4.0</td>\n",
       "      <td>2.0</td>\n",
       "      <td>2014</td>\n",
       "      <td>21</td>\n",
       "      <td>1555</td>\n",
       "      <td>6</td>\n",
       "      <td>3</td>\n",
       "      <td>6</td>\n",
       "      <td>0</td>\n",
       "      <td>0</td>\n",
       "      <td>6.69</td>\n",
       "      <td>26</td>\n",
       "      <td>3600000</td>\n",
       "    </tr>\n",
       "    <tr>\n",
       "      <th>499</th>\n",
       "      <td>5.0</td>\n",
       "      <td>1.0</td>\n",
       "      <td>2014</td>\n",
       "      <td>41</td>\n",
       "      <td>2557</td>\n",
       "      <td>6</td>\n",
       "      <td>1</td>\n",
       "      <td>2</td>\n",
       "      <td>0</td>\n",
       "      <td>4</td>\n",
       "      <td>6.83</td>\n",
       "      <td>18</td>\n",
       "      <td>135000</td>\n",
       "    </tr>\n",
       "    <tr>\n",
       "      <th>2387</th>\n",
       "      <td>4.0</td>\n",
       "      <td>1.0</td>\n",
       "      <td>2017</td>\n",
       "      <td>36</td>\n",
       "      <td>1778</td>\n",
       "      <td>9</td>\n",
       "      <td>2</td>\n",
       "      <td>3</td>\n",
       "      <td>0</td>\n",
       "      <td>0</td>\n",
       "      <td>6.54</td>\n",
       "      <td>24</td>\n",
       "      <td>9000000</td>\n",
       "    </tr>\n",
       "    <tr>\n",
       "      <th>3855</th>\n",
       "      <td>3.0</td>\n",
       "      <td>1.0</td>\n",
       "      <td>2020</td>\n",
       "      <td>37</td>\n",
       "      <td>3140</td>\n",
       "      <td>18</td>\n",
       "      <td>3</td>\n",
       "      <td>4</td>\n",
       "      <td>0</td>\n",
       "      <td>3</td>\n",
       "      <td>7.06</td>\n",
       "      <td>22</td>\n",
       "      <td>3240000</td>\n",
       "    </tr>\n",
       "    <tr>\n",
       "      <th>1126</th>\n",
       "      <td>2.0</td>\n",
       "      <td>2.0</td>\n",
       "      <td>2020</td>\n",
       "      <td>25</td>\n",
       "      <td>1351</td>\n",
       "      <td>5</td>\n",
       "      <td>3</td>\n",
       "      <td>0</td>\n",
       "      <td>0</td>\n",
       "      <td>1</td>\n",
       "      <td>6.89</td>\n",
       "      <td>27</td>\n",
       "      <td>72000000</td>\n",
       "    </tr>\n",
       "  </tbody>\n",
       "</table>\n",
       "<p>892 rows × 13 columns</p>\n",
       "</div>"
      ],
      "text/plain": [
       "      league  foot  date  Apps  Mins  Goals  Assists  Yel  Red  MotM  Rating  \\\n",
       "3811     3.0   3.0  2017     7   206      0        0    0    0     0    6.10   \n",
       "577      5.0   1.0  2018     8   624      0        1    2    0     0    6.66   \n",
       "1423     2.0   2.0  2019    17   979      3        3    1    0     0    6.66   \n",
       "2201     4.0   1.0  2021     8   210      0        0    0    0     0    6.24   \n",
       "2395     4.0   2.0  2012    14   623      2        2    1    0     0    6.72   \n",
       "...      ...   ...   ...   ...   ...    ...      ...  ...  ...   ...     ...   \n",
       "2793     4.0   2.0  2014    21  1555      6        3    6    0     0    6.69   \n",
       "499      5.0   1.0  2014    41  2557      6        1    2    0     4    6.83   \n",
       "2387     4.0   1.0  2017    36  1778      9        2    3    0     0    6.54   \n",
       "3855     3.0   1.0  2020    37  3140     18        3    4    0     3    7.06   \n",
       "1126     2.0   2.0  2020    25  1351      5        3    0    0     1    6.89   \n",
       "\n",
       "      age  market_value  \n",
       "3811   20        810000  \n",
       "577    23       4050000  \n",
       "1423   28      10800000  \n",
       "2201   22        360000  \n",
       "2395   21       4500000  \n",
       "...   ...           ...  \n",
       "2793   26       3600000  \n",
       "499    18        135000  \n",
       "2387   24       9000000  \n",
       "3855   22       3240000  \n",
       "1126   27      72000000  \n",
       "\n",
       "[892 rows x 13 columns]"
      ]
     },
     "execution_count": 4,
     "metadata": {},
     "output_type": "execute_result"
    }
   ],
   "source": [
    "import numpy as np\n",
    "data_train = pd.DataFrame(x_train, columns = ['league', 'foot','date',  'Apps',  'Mins',  'Goals','Assists', \n",
    "                                          'Yel','Red','MotM', 'Rating','age'])\n",
    "data_train ['market_value'] = np.array(y_train)\n",
    "\n",
    "data_test = pd.DataFrame(x_test, columns = ['league', 'foot','date',  'Apps',  'Mins',  'Goals','Assists', \n",
    "                                          'Yel','Red','MotM', 'Rating','age'])\n",
    "data_test['market_value'] = np.array(y_test)\n",
    "data_test"
   ]
  },
  {
   "cell_type": "markdown",
   "id": "072cc646",
   "metadata": {},
   "source": [
    "# 4 .Feature selection using Embedded Method and Training Model"
   ]
  },
  {
   "cell_type": "markdown",
   "id": "bdfe6771",
   "metadata": {},
   "source": [
    "# 4.1. Decision Tree"
   ]
  },
  {
   "cell_type": "markdown",
   "id": "5fb9c773",
   "metadata": {},
   "source": [
    "## a . Feature Importance"
   ]
  },
  {
   "cell_type": "code",
   "execution_count": 5,
   "id": "be452687",
   "metadata": {},
   "outputs": [
    {
     "name": "stdout",
     "output_type": "stream",
     "text": [
      "Train:\n",
      "r2 score : 1.0\n",
      "rmse  :  0.0\n",
      "Test:\n",
      "r2 score : 0.14263589366300777\n",
      "rmse  :  16794788.44637586\n"
     ]
    }
   ],
   "source": [
    "from sklearn.metrics import r2_score\n",
    "from sklearn.tree import DecisionTreeRegressor\n",
    "from sklearn.metrics import mean_squared_error\n",
    "from sklearn.metrics import mean_absolute_error\n",
    "regressor_tree = DecisionTreeRegressor(random_state = 3)\n",
    "regressor_tree.fit (data_train.drop(columns = ['market_value']) , data_train['market_value'])\n",
    "print(\"Train:\")\n",
    "y_pre_train = regressor_tree.predict(data_train.drop(columns = ['market_value']))\n",
    "print('r2 score :', r2_score(y_pre_train, y_train))\n",
    "print('rmse  : ' , (mean_squared_error(y_pre_train , y_train)**(1/2)) )\n",
    "\n",
    "print(\"Test:\")\n",
    "y_pre_test = regressor_tree.predict(data_test.drop(columns = ['market_value']))\n",
    "print('r2 score :', r2_score(y_pre_test, y_test))\n",
    "print('rmse  : ' , (mean_squared_error(y_pre_test , y_test)**(1/2)))"
   ]
  },
  {
   "cell_type": "code",
   "execution_count": null,
   "id": "751d8f03",
   "metadata": {
    "scrolled": true
   },
   "outputs": [],
   "source": []
  },
  {
   "cell_type": "code",
   "execution_count": 6,
   "id": "738f1d53",
   "metadata": {},
   "outputs": [
    {
     "data": {
      "image/png": "[encoded data removed]",
      "text/plain": [
       "<Figure size 720x576 with 1 Axes>"
      ]
     },
     "metadata": {
      "needs_background": "light"
     },
     "output_type": "display_data"
    }
   ],
   "source": [
    "def plot_feature_importance(regressor_tree, data_train):\n",
    "    \n",
    "    # Create arrays from feature importance and feature names\n",
    "    feature_importance = regressor_tree.feature_importances_\n",
    "    feature_name = data_train.columns[:-1]\n",
    "    \n",
    "    # Creaate a dataframe \n",
    "    data={'feature_name':feature_name,'feature_importance':feature_importance}\n",
    "    df = pd.DataFrame(data)\n",
    "    # Sort the DataFrame in order decreasing feature importance\n",
    "    df.sort_values(by = ['feature_importance'], ascending=False,inplace=True)\n",
    "    # Define size of bar plot\n",
    "    plt.figure(figsize = (10,8))\n",
    "    #Plot Searborn bar chart\n",
    "    sns.barplot(x = df['feature_importance'], y = df['feature_name'])\n",
    "    #Add chart labels\n",
    "    plt.title('Feature importance for each feature')\n",
    "    plt.xlabel('Feature importance')\n",
    "    plt.ylabel('Feature name')\n",
    "    return data\n",
    "see_feature_importance = plot_feature_importance(regressor_tree, data_train) "
   ]
  },
  {
   "cell_type": "code",
   "execution_count": 7,
   "id": "396bb0d3",
   "metadata": {},
   "outputs": [
    {
     "data": {
      "text/html": [
       "<div>\n",
       "<style scoped>\n",
       "    .dataframe tbody tr th:only-of-type {\n",
       "        vertical-align: middle;\n",
       "    }\n",
       "\n",
       "    .dataframe tbody tr th {\n",
       "        vertical-align: top;\n",
       "    }\n",
       "\n",
       "    .dataframe thead th {\n",
       "        text-align: right;\n",
       "    }\n",
       "</style>\n",
       "<table border=\"1\" class=\"dataframe\">\n",
       "  <thead>\n",
       "    <tr style=\"text-align: right;\">\n",
       "      <th></th>\n",
       "      <th>feature_name</th>\n",
       "      <th>feature_importance</th>\n",
       "    </tr>\n",
       "  </thead>\n",
       "  <tbody>\n",
       "    <tr>\n",
       "      <th>0</th>\n",
       "      <td>league</td>\n",
       "      <td>0.063849</td>\n",
       "    </tr>\n",
       "    <tr>\n",
       "      <th>1</th>\n",
       "      <td>foot</td>\n",
       "      <td>0.015376</td>\n",
       "    </tr>\n",
       "    <tr>\n",
       "      <th>2</th>\n",
       "      <td>date</td>\n",
       "      <td>0.061053</td>\n",
       "    </tr>\n",
       "    <tr>\n",
       "      <th>3</th>\n",
       "      <td>Apps</td>\n",
       "      <td>0.212724</td>\n",
       "    </tr>\n",
       "    <tr>\n",
       "      <th>4</th>\n",
       "      <td>Mins</td>\n",
       "      <td>0.096710</td>\n",
       "    </tr>\n",
       "    <tr>\n",
       "      <th>5</th>\n",
       "      <td>Goals</td>\n",
       "      <td>0.147097</td>\n",
       "    </tr>\n",
       "    <tr>\n",
       "      <th>6</th>\n",
       "      <td>Assists</td>\n",
       "      <td>0.072113</td>\n",
       "    </tr>\n",
       "    <tr>\n",
       "      <th>7</th>\n",
       "      <td>Yel</td>\n",
       "      <td>0.028140</td>\n",
       "    </tr>\n",
       "    <tr>\n",
       "      <th>8</th>\n",
       "      <td>Red</td>\n",
       "      <td>0.011641</td>\n",
       "    </tr>\n",
       "    <tr>\n",
       "      <th>9</th>\n",
       "      <td>MotM</td>\n",
       "      <td>0.043076</td>\n",
       "    </tr>\n",
       "    <tr>\n",
       "      <th>10</th>\n",
       "      <td>Rating</td>\n",
       "      <td>0.180773</td>\n",
       "    </tr>\n",
       "    <tr>\n",
       "      <th>11</th>\n",
       "      <td>age</td>\n",
       "      <td>0.067446</td>\n",
       "    </tr>\n",
       "  </tbody>\n",
       "</table>\n",
       "</div>"
      ],
      "text/plain": [
       "   feature_name  feature_importance\n",
       "0        league            0.063849\n",
       "1          foot            0.015376\n",
       "2          date            0.061053\n",
       "3          Apps            0.212724\n",
       "4          Mins            0.096710\n",
       "5         Goals            0.147097\n",
       "6       Assists            0.072113\n",
       "7           Yel            0.028140\n",
       "8           Red            0.011641\n",
       "9          MotM            0.043076\n",
       "10       Rating            0.180773\n",
       "11          age            0.067446"
      ]
     },
     "execution_count": 7,
     "metadata": {},
     "output_type": "execute_result"
    }
   ],
   "source": [
    "pd.DataFrame(see_feature_importance)"
   ]
  },
  {
   "cell_type": "markdown",
   "id": "d7a600b2",
   "metadata": {},
   "source": [
    "# b .Hyperparameter Tunning"
   ]
  },
  {
   "cell_type": "code",
   "execution_count": 8,
   "id": "1fcf32fb",
   "metadata": {},
   "outputs": [
    {
     "data": {
      "text/plain": [
       "\" from sklearn.model_selection import GridSearchCV\\nregressor = DecisionTreeRegressor(random_state = 3)\\nparams = {'max_depth':[1, 2, 3, 4, 5, 6, 7, 8, 9, 10, 11, 12, 13],\\n         'criterion' :['squared_error', 'friedman_mse', 'absolute_error', 'poisson'],\\n         'max_features': [None, 0.5,'auto', 'sqrt','log2'],\\n          'min_samples_leaf':[1, 2, 3, 4, 5]}\\nscoring_fnc = 'r2'\\ngrid = GridSearchCV(estimator=regressor, param_grid=params, scoring=scoring_fnc, cv=5, verbose= 1 )\\ngrid.fit(data_train.drop(columns = ['market_value','Red','foot','Yel']), data_train['market_value'])\\n\""
      ]
     },
     "execution_count": 8,
     "metadata": {},
     "output_type": "execute_result"
    }
   ],
   "source": [
    "''' from sklearn.model_selection import GridSearchCV\n",
    "regressor = DecisionTreeRegressor(random_state = 3)\n",
    "params = {'max_depth':[1, 2, 3, 4, 5, 6, 7, 8, 9, 10, 11, 12, 13],\n",
    "         'criterion' :['squared_error', 'friedman_mse', 'absolute_error', 'poisson'],\n",
    "         'max_features': [None, 0.5,'auto', 'sqrt','log2'],\n",
    "          'min_samples_leaf':[1, 2, 3, 4, 5]}\n",
    "scoring_fnc = 'r2'\n",
    "grid = GridSearchCV(estimator=regressor, param_grid=params, scoring=scoring_fnc, cv=5, verbose= 1 )\n",
    "grid.fit(data_train.drop(columns = ['market_value','Red','foot','Yel']), data_train['market_value'])\n",
    "'''"
   ]
  },
  {
   "cell_type": "code",
   "execution_count": 9,
   "id": "03685847",
   "metadata": {},
   "outputs": [],
   "source": [
    "#grid.best_estimator_.get_params()"
   ]
  },
  {
   "cell_type": "code",
   "execution_count": 10,
   "id": "a8047761",
   "metadata": {},
   "outputs": [
    {
     "name": "stdout",
     "output_type": "stream",
     "text": [
      "r2 score : 0.043716203133019826\n",
      "Root mean squraed 13684349.952171061\n",
      "Root mean absolute 8324372.987862364\n"
     ]
    }
   ],
   "source": [
    "# model\n",
    "model = DecisionTreeRegressor(random_state = 3,\n",
    "                              criterion = 'friedman_mse', \n",
    "                              max_depth = 7 ,\n",
    "                              max_features = None,\n",
    "                              min_samples_leaf = 4 )\n",
    "#predict\n",
    "model.fit(data_train.drop(columns = ['market_value','Red','foot','Yel','MotM']), data_train['market_value'])\n",
    "\n",
    "y_pre = model.predict(data_test.drop(columns = ['market_value','Red','foot','Yel','MotM'])) \n",
    "\n",
    "print('r2 score :', r2_score(y_pre, y_test))\n",
    "print('Root mean squraed' ,(mean_squared_error(y_pre,y_test )**(1/2)))\n",
    "print('Root mean absolute' ,(mean_absolute_error(y_pre,y_test )))"
   ]
  },
  {
   "cell_type": "markdown",
   "id": "99f6c9d2",
   "metadata": {},
   "source": [
    "# 4.2 .Random Forest"
   ]
  },
  {
   "cell_type": "markdown",
   "id": "899d4999",
   "metadata": {},
   "source": [
    "# a .Feature importance"
   ]
  },
  {
   "cell_type": "code",
   "execution_count": 11,
   "id": "b6a8db5e",
   "metadata": {},
   "outputs": [
    {
     "name": "stdout",
     "output_type": "stream",
     "text": [
      "Train:\n",
      "r2 score : 0.8873793010499652\n",
      "rmse  :  5185617.103030582\n",
      "Test:\n",
      "r2 score : 0.06887873474947603\n",
      "rmse  :  12836869.323834646\n"
     ]
    }
   ],
   "source": [
    "from sklearn.ensemble import RandomForestRegressor\n",
    "regressor_tree = RandomForestRegressor(random_state = 3)\n",
    "regressor_tree.fit (data_train.drop(columns = ['market_value']) , data_train['market_value'])\n",
    "print(\"Train:\")\n",
    "y_pre_train = regressor_tree.predict(data_train.drop(columns = ['market_value']))\n",
    "print('r2 score :', r2_score(y_pre_train, y_train))\n",
    "print('rmse  : ' , (mean_squared_error(y_pre_train , y_train)**(1/2)) )\n",
    "\n",
    "print(\"Test:\")\n",
    "y_pre_test = regressor_tree.predict(data_test.drop(columns = ['market_value']))\n",
    "print('r2 score :', r2_score(y_pre_test, y_test))\n",
    "print('rmse  : ' , (mean_squared_error(y_pre_test , y_test)**(1/2)))"
   ]
  },
  {
   "cell_type": "code",
   "execution_count": 12,
   "id": "491d43cc",
   "metadata": {},
   "outputs": [
    {
     "data": {
      "image/png": "[encoded data removed]",
      "text/plain": [
       "<Figure size 720x576 with 1 Axes>"
      ]
     },
     "metadata": {
      "needs_background": "light"
     },
     "output_type": "display_data"
    }
   ],
   "source": [
    "see_feature_importance = plot_feature_importance(regressor_tree, data_train) "
   ]
  },
  {
   "cell_type": "code",
   "execution_count": 13,
   "id": "7857db50",
   "metadata": {},
   "outputs": [
    {
     "data": {
      "text/html": [
       "<div>\n",
       "<style scoped>\n",
       "    .dataframe tbody tr th:only-of-type {\n",
       "        vertical-align: middle;\n",
       "    }\n",
       "\n",
       "    .dataframe tbody tr th {\n",
       "        vertical-align: top;\n",
       "    }\n",
       "\n",
       "    .dataframe thead th {\n",
       "        text-align: right;\n",
       "    }\n",
       "</style>\n",
       "<table border=\"1\" class=\"dataframe\">\n",
       "  <thead>\n",
       "    <tr style=\"text-align: right;\">\n",
       "      <th></th>\n",
       "      <th>feature_name</th>\n",
       "      <th>feature_importance</th>\n",
       "    </tr>\n",
       "  </thead>\n",
       "  <tbody>\n",
       "    <tr>\n",
       "      <th>0</th>\n",
       "      <td>league</td>\n",
       "      <td>0.064289</td>\n",
       "    </tr>\n",
       "    <tr>\n",
       "      <th>1</th>\n",
       "      <td>foot</td>\n",
       "      <td>0.020352</td>\n",
       "    </tr>\n",
       "    <tr>\n",
       "      <th>2</th>\n",
       "      <td>date</td>\n",
       "      <td>0.069767</td>\n",
       "    </tr>\n",
       "    <tr>\n",
       "      <th>3</th>\n",
       "      <td>Apps</td>\n",
       "      <td>0.183161</td>\n",
       "    </tr>\n",
       "    <tr>\n",
       "      <th>4</th>\n",
       "      <td>Mins</td>\n",
       "      <td>0.091160</td>\n",
       "    </tr>\n",
       "    <tr>\n",
       "      <th>5</th>\n",
       "      <td>Goals</td>\n",
       "      <td>0.137091</td>\n",
       "    </tr>\n",
       "    <tr>\n",
       "      <th>6</th>\n",
       "      <td>Assists</td>\n",
       "      <td>0.055131</td>\n",
       "    </tr>\n",
       "    <tr>\n",
       "      <th>7</th>\n",
       "      <td>Yel</td>\n",
       "      <td>0.039905</td>\n",
       "    </tr>\n",
       "    <tr>\n",
       "      <th>8</th>\n",
       "      <td>Red</td>\n",
       "      <td>0.007700</td>\n",
       "    </tr>\n",
       "    <tr>\n",
       "      <th>9</th>\n",
       "      <td>MotM</td>\n",
       "      <td>0.078934</td>\n",
       "    </tr>\n",
       "    <tr>\n",
       "      <th>10</th>\n",
       "      <td>Rating</td>\n",
       "      <td>0.180915</td>\n",
       "    </tr>\n",
       "    <tr>\n",
       "      <th>11</th>\n",
       "      <td>age</td>\n",
       "      <td>0.071593</td>\n",
       "    </tr>\n",
       "  </tbody>\n",
       "</table>\n",
       "</div>"
      ],
      "text/plain": [
       "   feature_name  feature_importance\n",
       "0        league            0.064289\n",
       "1          foot            0.020352\n",
       "2          date            0.069767\n",
       "3          Apps            0.183161\n",
       "4          Mins            0.091160\n",
       "5         Goals            0.137091\n",
       "6       Assists            0.055131\n",
       "7           Yel            0.039905\n",
       "8           Red            0.007700\n",
       "9          MotM            0.078934\n",
       "10       Rating            0.180915\n",
       "11          age            0.071593"
      ]
     },
     "execution_count": 13,
     "metadata": {},
     "output_type": "execute_result"
    }
   ],
   "source": [
    "pd.DataFrame(see_feature_importance)"
   ]
  },
  {
   "cell_type": "markdown",
   "id": "dbb7ebba",
   "metadata": {},
   "source": [
    "# b. Hyperparameter Tunning"
   ]
  },
  {
   "cell_type": "code",
   "execution_count": 14,
   "id": "bfad1c74",
   "metadata": {},
   "outputs": [
    {
     "name": "stdout",
     "output_type": "stream",
     "text": [
      "Fitting 5 folds for each of 24 candidates, totalling 120 fits\n"
     ]
    },
    {
     "data": {
      "text/plain": [
       "GridSearchCV(cv=5, estimator=RandomForestRegressor(random_state=3),\n",
       "             param_grid={'max_features': [None, 0.5, 'auto', 'sqrt'],\n",
       "                         'min_samples_leaf': [1, 4],\n",
       "                         'n_estimators': [100, 300, 500]},\n",
       "             scoring='r2', verbose=1)"
      ]
     },
     "execution_count": 14,
     "metadata": {},
     "output_type": "execute_result"
    }
   ],
   "source": [
    "from sklearn.model_selection import GridSearchCV\n",
    "regressor = RandomForestRegressor(random_state = 3)\n",
    "params = {'n_estimators':[100,300,500],\n",
    "         'max_features': [None, 0.5,'auto', 'sqrt'],\n",
    "          'min_samples_leaf':[1,4]\n",
    "         }\n",
    "scoring_fnc = 'r2'\n",
    "grid = GridSearchCV(estimator=regressor, param_grid=params, scoring=scoring_fnc, cv=5, verbose= 1 )\n",
    "grid.fit(data_train.drop(columns = ['market_value','Red','foot','Yel']), data_train['market_value'])"
   ]
  },
  {
   "cell_type": "code",
   "execution_count": 15,
   "id": "be656a87",
   "metadata": {},
   "outputs": [
    {
     "data": {
      "text/plain": [
       "{'bootstrap': True,\n",
       " 'ccp_alpha': 0.0,\n",
       " 'criterion': 'mse',\n",
       " 'max_depth': None,\n",
       " 'max_features': None,\n",
       " 'max_leaf_nodes': None,\n",
       " 'max_samples': None,\n",
       " 'min_impurity_decrease': 0.0,\n",
       " 'min_impurity_split': None,\n",
       " 'min_samples_leaf': 4,\n",
       " 'min_samples_split': 2,\n",
       " 'min_weight_fraction_leaf': 0.0,\n",
       " 'n_estimators': 300,\n",
       " 'n_jobs': None,\n",
       " 'oob_score': False,\n",
       " 'random_state': 3,\n",
       " 'verbose': 0,\n",
       " 'warm_start': False}"
      ]
     },
     "execution_count": 15,
     "metadata": {},
     "output_type": "execute_result"
    }
   ],
   "source": [
    "grid.best_estimator_.get_params()"
   ]
  },
  {
   "cell_type": "code",
   "execution_count": 19,
   "id": "45a4214c",
   "metadata": {},
   "outputs": [
    {
     "name": "stdout",
     "output_type": "stream",
     "text": [
      "r2 score : 0.022772572344589626\n",
      "Root mean squraed 12670496.274624754\n",
      "Root mean absolute 7883006.757097454\n"
     ]
    }
   ],
   "source": [
    "# model\n",
    "model = RandomForestRegressor(random_state = 3,n_estimators = 300,\n",
    "                              max_features = None,min_samples_leaf = 4\n",
    "                             )\n",
    "#predict\n",
    "model.fit(data_train.drop(columns = ['market_value','Red','foot','Yel']), data_train['market_value'])\n",
    "\n",
    "y_pre = model.predict(data_test.drop(columns = ['market_value','Red','foot','Yel'])) \n",
    "\n",
    "print('r2 score :', r2_score(y_pre, y_test))\n",
    "print('Root mean squraed' ,(mean_squared_error(y_pre,y_test )**(1/2)))\n",
    "print('Root mean absolute' ,(mean_absolute_error(y_pre,y_test )))"
   ]
  },
  {
   "cell_type": "code",
   "execution_count": null,
   "id": "da394dce",
   "metadata": {},
   "outputs": [],
   "source": []
  }
 ],
 "metadata": {
  "kernelspec": {
   "display_name": "Python 3",
   "language": "python",
   "name": "python3"
  },
  "language_info": {
   "codemirror_mode": {
    "name": "ipython",
    "version": 3
   },
   "file_extension": ".py",
   "mimetype": "text/x-python",
   "name": "python",
   "nbconvert_exporter": "python",
   "pygments_lexer": "ipython3",
   "version": "3.8.8"
  }
 },
 "nbformat": 4,
 "nbformat_minor": 5
}
